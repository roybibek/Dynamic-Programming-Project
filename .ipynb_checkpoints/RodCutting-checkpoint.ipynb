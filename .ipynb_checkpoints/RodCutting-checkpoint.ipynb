{
 "cells": [
  {
   "cell_type": "code",
   "execution_count": 109,
   "id": "064afb93-58e8-4cd1-8bb5-2c9e1b5455a7",
   "metadata": {},
   "outputs": [],
   "source": [
    "import sys #This is used to call max = -inf\n"
   ]
  },
  {
   "cell_type": "code",
   "execution_count": 254,
   "id": "212c1db0-f439-4994-8de6-676a6cd8e59a",
   "metadata": {
    "jupyter": {
     "source_hidden": true
    },
    "tags": []
   },
   "outputs": [],
   "source": [
    "#Recursive function\n",
    "def RodCutting(length, price):\n",
    "    \n",
    "   \n",
    "    if length == 0:\n",
    "        return 0\n",
    "\n",
    "    maxValue = -sys.maxsize\n",
    "    for i in range(1, length + 1):\n",
    "\n",
    "        cost = price[i - 1] + RodCutting(length - i, price)\n",
    "\n",
    "        if cost > maxValue:\n",
    "            maxValue = cost\n",
    "    \n",
    "    return maxValue"
   ]
  },
  {
   "cell_type": "code",
   "execution_count": 263,
   "id": "90cb5e05-e034-4a33-9c20-5ee7498b0f04",
   "metadata": {},
   "outputs": [
    {
     "name": "stdout",
     "output_type": "stream",
     "text": [
      "Maximum profit for rod is  7\n"
     ]
    }
   ],
   "source": [
    "print('Maximum profit for rod is ', RodCutting(3, [2, 5, 6]))"
   ]
  },
  {
   "cell_type": "code",
   "execution_count": 264,
   "id": "bccc3ebe-d5f7-4c8a-899c-05fb8e0b7069",
   "metadata": {},
   "outputs": [
    {
     "name": "stdout",
     "output_type": "stream",
     "text": [
      "Maximum profit for rod is  20\n"
     ]
    }
   ],
   "source": [
    "print('Maximum profit for rod is ', RodCutting(10, [2, 4, 5, 6, 7, 8, 9, 10, 12, 15]))"
   ]
  },
  {
   "cell_type": "code",
   "execution_count": 280,
   "id": "0b579d6e-b294-45aa-852a-8c5e17f9c26e",
   "metadata": {},
   "outputs": [],
   "source": [
    "#Bottom-Up function\n",
    "def BotUpRodCutting(length, price):\n",
    " \n",
    "    arr = [0] * (length + 1)\n",
    " \n",
    "    \n",
    "    for i in range(1, length + 1):\n",
    "        for j in range(1, i + 1):\n",
    "            arr[i] = max(arr[i], price[j - 1] + arr[i - j])\n",
    " \n",
    "    \n",
    "    return arr[length]\n",
    " \n",
    "    return maxValue\n",
    " "
   ]
  },
  {
   "cell_type": "code",
   "execution_count": 281,
   "id": "7105b1c8-81c4-4cf5-b01f-50b6508d0493",
   "metadata": {},
   "outputs": [
    {
     "data": {
      "text/plain": [
       "7"
      ]
     },
     "execution_count": 281,
     "metadata": {},
     "output_type": "execute_result"
    }
   ],
   "source": [
    "BotUpRodCutting(3, [2, 5, 6])"
   ]
  },
  {
   "cell_type": "code",
   "execution_count": null,
   "id": "d7b5edad-fb9c-4f8e-aa7e-7168f365c6fe",
   "metadata": {},
   "outputs": [],
   "source": []
  }
 ],
 "metadata": {
  "kernelspec": {
   "display_name": "Python 3",
   "language": "python",
   "name": "python3"
  },
  "language_info": {
   "codemirror_mode": {
    "name": "ipython",
    "version": 3
   },
   "file_extension": ".py",
   "mimetype": "text/x-python",
   "name": "python",
   "nbconvert_exporter": "python",
   "pygments_lexer": "ipython3",
   "version": "3.8.8"
  }
 },
 "nbformat": 4,
 "nbformat_minor": 5
}
